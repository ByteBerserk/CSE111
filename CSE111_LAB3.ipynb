{
  "nbformat": 4,
  "nbformat_minor": 0,
  "metadata": {
    "colab": {
      "provenance": [],
      "include_colab_link": true
    },
    "kernelspec": {
      "name": "python3",
      "display_name": "Python 3"
    },
    "language_info": {
      "name": "python"
    }
  },
  "cells": [
    {
      "cell_type": "markdown",
      "metadata": {
        "id": "view-in-github",
        "colab_type": "text"
      },
      "source": [
        "<a href=\"https://colab.research.google.com/github/ByteBerserk/CSE111/blob/main/CSE111_LAB3.ipynb\" target=\"_parent\"><img src=\"https://colab.research.google.com/assets/colab-badge.svg\" alt=\"Open In Colab\"/></a>"
      ]
    },
    {
      "cell_type": "code",
      "execution_count": null,
      "metadata": {
        "id": "t-PcUoAtTmAj",
        "colab": {
          "base_uri": "https://localhost:8080/"
        },
        "outputId": "24f9635c-5c83-4560-ac60-e9179b8da2f5"
      },
      "outputs": [
        {
          "output_type": "stream",
          "name": "stdout",
          "text": [
            "Integer\n",
            "1234\n",
            "=====================\n",
            "String\n",
            "Hello\n",
            "=====================\n",
            "Float\n",
            "4.0\n"
          ]
        }
      ],
      "source": [
        "#Task-01\n",
        "class DataType:\n",
        "     def __init__(self,name,value):\n",
        "         self.name=name\n",
        "         self.value=value\n",
        "\n",
        "\n",
        "\n",
        "data_type1 = DataType('Integer', 1234)\n",
        "print(data_type1.name)\n",
        "print(data_type1.value)\n",
        "print('=====================')\n",
        "data_type2 = DataType('String', 'Hello')\n",
        "print(data_type2.name)\n",
        "print(data_type2.value)\n",
        "print('=====================')\n",
        "data_type3 = DataType('Float', 4.0)\n",
        "print(data_type3.name)\n",
        "print(data_type3.value)"
      ]
    },
    {
      "cell_type": "code",
      "source": [
        "#Task-02\n",
        "class Joker:\n",
        "    def __init__(self,name,power,is_he_psycho):\n",
        "        self.name=name\n",
        "        self.power=power\n",
        "        self.is_he_psycho=is_he_psycho\n",
        "\n",
        "\n",
        "\n",
        "j1 = Joker('Heath Ledger', 'Mind Game', False)\n",
        "print(j1.name)\n",
        "print(j1.power)\n",
        "print(j1.is_he_psycho)\n",
        "print('=====================')\n",
        "j2 = Joker('Joaquin Phoenix', 'Laughing out Loud', True)\n",
        "print(j2.name)\n",
        "print(j2.power)\n",
        "print(j2.is_he_psycho)\n",
        "print('=====================')\n",
        "if j1 == j2:\n",
        "   print('same')\n",
        "else:\n",
        "   print('different')\n",
        "j2.name = 'Heath Ledger'\n",
        "if j1.name == j2.name:\n",
        "   print('same')\n",
        "else:\n",
        "   print('different')\n",
        "print(\"In the 1st case, j1='Heath Ledger' and j2='Joaquin Phoenix'. Because of that the 1st output is 'different'.\")\n",
        "print(\"In the 2nd case, j1 and j2 both are 'Heath Ledger' and so the 2nd output is 'same'.\")"
      ],
      "metadata": {
        "id": "n5QiQNqPTt4s",
        "colab": {
          "base_uri": "https://localhost:8080/"
        },
        "outputId": "de16f6ae-3da3-41ad-c014-f2440e772932"
      },
      "execution_count": null,
      "outputs": [
        {
          "output_type": "stream",
          "name": "stdout",
          "text": [
            "Heath Ledger\n",
            "Mind Game\n",
            "False\n",
            "=====================\n",
            "Joaquin Phoenix\n",
            "Laughing out Loud\n",
            "True\n",
            "=====================\n",
            "different\n",
            "same\n"
          ]
        }
      ]
    },
    {
      "cell_type": "code",
      "source": [
        "#Task-03\n",
        "class Pokemon:\n",
        "    def __init__(self,pokemon1,pokemon2,pokemon1_power,pokemon2_power,damage_rate):\n",
        "        self.pokemon1_name=pokemon1\n",
        "        self.pokemon2_name=pokemon2\n",
        "        self.pokemon1_power=pokemon1_power\n",
        "        self.pokemon2_power=pokemon2_power\n",
        "        self.damage_rate=damage_rate\n",
        "team_pika = Pokemon('pikachu', 'charmander', 90, 60, 10)\n",
        "print('=======Team 1=======')\n",
        "print('Pokemon 1:',team_pika.pokemon1_name,team_pika.pokemon1_power)\n",
        "print('Pokemon 2:',team_pika.pokemon2_name,team_pika.pokemon2_power)\n",
        "pika_combined_power = (team_pika.pokemon1_power +team_pika.pokemon2_power) * team_pika.damage_rate\n",
        "print('Combined Power:', pika_combined_power)\n",
        "team_bulb=Pokemon('bulbasaur', 'squirtle', 80, 70,9)\n",
        "print('=======Team 2=======')\n",
        "print('Pokemon 1:',team_bulb.pokemon1_name,team_bulb.pokemon1_power)\n",
        "print('Pokemon 2:',team_bulb.pokemon2_name,team_bulb.pokemon2_power)\n",
        "pika_combined_power = (team_bulb.pokemon1_power +team_bulb.pokemon2_power) * team_bulb.damage_rate\n",
        "print('Combined Power:', pika_combined_power)"
      ],
      "metadata": {
        "id": "msf8A3PeT5Ib",
        "colab": {
          "base_uri": "https://localhost:8080/"
        },
        "outputId": "5eeef397-72bf-425e-eafb-e193b057ac31"
      },
      "execution_count": null,
      "outputs": [
        {
          "output_type": "stream",
          "name": "stdout",
          "text": [
            "=======Team 1=======\n",
            "Pokemon 1: pikachu 90\n",
            "Pokemon 2: charmander 60\n",
            "Combined Power: 1500\n",
            "=======Team 2=======\n",
            "Pokemon 1: bulbasaur 80\n",
            "Pokemon 2: squirtle 70\n",
            "Combined Power: 1350\n"
          ]
        }
      ]
    },
    {
      "cell_type": "code",
      "source": [
        "#Task-04\n",
        "\n",
        "class Country:\n",
        "    def __init__(self):\n",
        "        self.name='Bangladesh'\n",
        "        self.continent='Asia'\n",
        "        self.capital='Dhaka'\n",
        "        self.fifa_ranking=187\n",
        "\n",
        "country = Country()\n",
        "print('Name:',country.name)\n",
        "print('Continent:',country.continent)\n",
        "print('Capital:',country.capital)\n",
        "print('Fifa Ranking:',country.fifa_ranking)\n",
        "print('===================')\n",
        "country.name = \"Belgium\"\n",
        "country.continent = 'Europe'\n",
        "country.capital = \"Brussels\"\n",
        "country.fifa_ranking = 1\n",
        "print('Name:',country.name)\n",
        "print('Continent:',country.continent)\n",
        "print('Capital:',country.capital)\n",
        "print('Fifa Ranking:',country.fifa_ranking)"
      ],
      "metadata": {
        "id": "X2GNOPR8T8Zb",
        "colab": {
          "base_uri": "https://localhost:8080/"
        },
        "outputId": "49ade08a-cb88-4cda-bcbe-0734a7ea4b95"
      },
      "execution_count": null,
      "outputs": [
        {
          "output_type": "stream",
          "name": "stdout",
          "text": [
            "Name: Bangladesh\n",
            "Continent: Asia\n",
            "Capital: Dhaka\n",
            "Fifa Ranking: 187\n",
            "===================\n",
            "Name: Belgium\n",
            "Continent: Europe\n",
            "Capital: Brussels\n",
            "Fifa Ranking: 1\n"
          ]
        }
      ]
    },
    {
      "cell_type": "code",
      "source": [
        "#Task-05\n",
        "\n",
        "class DemonSlayer:\n",
        "    def __init__(self,name,style,num_of_tech,kills):\n",
        "        self.name=name\n",
        "        self.style=style\n",
        "        self.number_of_technique=num_of_tech\n",
        "        self.kill=kills\n",
        "        \n",
        "\n",
        "tanjiro = DemonSlayer(\"Tanjiro\", \"Water Breathing\", 10, 10)\n",
        "print('Name:',tanjiro.name)\n",
        "print('Fighting Style:',tanjiro.style)\n",
        "print(f'Knows {tanjiro.number_of_technique} technique(s) and has killed {tanjiro.kill} demon(s)')\n",
        "print('===================')\n",
        "zenitsu = DemonSlayer(\"Zenitsu\", \"Thunder Breathing\", 1, 4)\n",
        "print('Name:',zenitsu.name)\n",
        "print('Fighting Style:',zenitsu.style)\n",
        "print(f'Knows {zenitsu.number_of_technique} technique(s) and has killed {zenitsu.kill} demon(s)')\n",
        "print('===================')\n",
        "inosuke = DemonSlayer(\"Inosuke\", \"Beast Breathing\", 5, 7)\n",
        "print('Name:',inosuke.name)\n",
        "print('Fighting Style:',inosuke.style)\n",
        "print(f'Knows {inosuke.number_of_technique} technique(s) and has killed {inosuke.kill} demon(s)')\n",
        "print('===================')\n",
        "print(f'{tanjiro.name}, {zenitsu.name}, {inosuke.name} knows total {tanjiro.number_of_technique + zenitsu.number_of_technique+inosuke.number_of_technique} techniques')\n",
        "print(f'They have killed total {tanjiro.kill + zenitsu.kill +inosuke.kill} demons')"
      ],
      "metadata": {
        "id": "HCTDzUIPUFar",
        "colab": {
          "base_uri": "https://localhost:8080/"
        },
        "outputId": "d901c98f-5377-4e17-e875-8598806819ee"
      },
      "execution_count": null,
      "outputs": [
        {
          "output_type": "stream",
          "name": "stdout",
          "text": [
            "Name: Tanjiro\n",
            "Fighting Style: Water Breathing\n",
            "Knows 10 technique(s) and has killed 10 demon(s)\n",
            "===================\n",
            "Name: Zenitsu\n",
            "Fighting Style: Thunder Breathing\n",
            "Knows 1 technique(s) and has killed 4 demon(s)\n",
            "===================\n",
            "Name: Inosuke\n",
            "Fighting Style: Beast Breathing\n",
            "Knows 5 technique(s) and has killed 7 demon(s)\n",
            "===================\n",
            "Tanjiro, Zenitsu, Inosuke knows total 16 techniques\n",
            "They have killed total 21 demons\n"
          ]
        }
      ]
    },
    {
      "cell_type": "code",
      "source": [
        "#Task-06\n",
        "class box:\n",
        "    def __init__(self,lis):\n",
        "        self.height=lis[0]\n",
        "        self.width=lis[1]\n",
        "        self.breadth=lis[2]\n",
        "        print(f\"Creating a box!\\nVolume of the box is {self.height*self.width*self.breadth} cubic units.\")\n",
        "\n",
        "print(\"Box 1\")\n",
        "b1 = box([10,10,10])\n",
        "print(\"=========================\")\n",
        "print(\"Height:\", b1.height)\n",
        "print(\"Width:\", b1.width)\n",
        "print(\"Breadth:\", b1.breadth)\n",
        "print(\"-------------------------\")\n",
        "print(\"Box 2\")\n",
        "b2 = box((30,10,10))\n",
        "print(\"=========================\")\n",
        "print(\"Height:\", b2.height)\n",
        "print(\"Width:\", b2.width)\n",
        "print(\"Breadth:\", b2.breadth)\n",
        "b2.height = 300\n",
        "print(\"Updating Box 2!\")\n",
        "print(\"Height:\", b2.height)\n",
        "print(\"Width:\", b2.width)\n",
        "print(\"Breadth:\", b2.breadth)\n",
        "print(\"-------------------------\")\n",
        "print(\"Box 3\")\n",
        "b3 = b2\n",
        "print(\"Height:\", b3.height)\n",
        "print(\"Width:\", b3.width)\n",
        "print(\"Breadth:\", b3.breadth)"
      ],
      "metadata": {
        "id": "mD-hJ8CJUQ0z",
        "colab": {
          "base_uri": "https://localhost:8080/"
        },
        "outputId": "16ad3085-2fd9-4fa2-d235-595b5d39eaaf"
      },
      "execution_count": null,
      "outputs": [
        {
          "output_type": "stream",
          "name": "stdout",
          "text": [
            "Box 1\n",
            "Creating a box!\n",
            "Volume of the box is 1000 cubic units.\n",
            "=========================\n",
            "Height: 10\n",
            "Width: 10\n",
            "Breadth: 10\n",
            "-------------------------\n",
            "Box 2\n",
            "Creating a box!\n",
            "Volume of the box is 3000 cubic units.\n",
            "=========================\n",
            "Height: 30\n",
            "Width: 10\n",
            "Breadth: 10\n",
            "Updating Box 2!\n",
            "Height: 300\n",
            "Width: 10\n",
            "Breadth: 10\n",
            "-------------------------\n",
            "Box 3\n",
            "Height: 300\n",
            "Width: 10\n",
            "Breadth: 10\n"
          ]
        }
      ]
    },
    {
      "cell_type": "code",
      "source": [
        "#Task-07\n",
        "class buttons:\n",
        "    def __init__(self,word,spaces,border):\n",
        "         self.word=word\n",
        "         self.spaces=spaces\n",
        "         self.border=border\n",
        "         self.num=1+self.spaces+len(word)+self.spaces+1\n",
        "         print(f'{word} Button Specifications:\\nButton name:{word}\\nNumber of the border characters for the top and the bottom:{self.num}')\n",
        "         print(f\"Number of spaces between the left side border and the first character of the button\\nname: {spaces}\\nNumber of spaces between the right side border and the last character of the button\\nname: {spaces}\\nCharacters representing the borders: x\")\n",
        "         print(self.border*self.num)\n",
        "         print(f'{self.border} {\" \"*self.spaces}{self.word}{\" \"*(self.spaces-1)}{self.border}')\n",
        "         print(self.border*self.num)\n",
        "word = \"CANCEL\"\n",
        "spaces = 10\n",
        "border = 'x'\n",
        "b1 = buttons(word, spaces, border)\n",
        "print(\"=======================================================\")\n",
        "b2 = buttons(\"Notify\",3, '!')\n",
        "print(\"=======================================================\")\n",
        "b3 = buttons('SAVE PROGRESS', 5, '$')"
      ],
      "metadata": {
        "id": "XRtqc7-CURrS",
        "colab": {
          "base_uri": "https://localhost:8080/"
        },
        "outputId": "c9dac2e9-b1c8-41ca-ffbe-88b786c9dc66"
      },
      "execution_count": null,
      "outputs": [
        {
          "output_type": "stream",
          "name": "stdout",
          "text": [
            "CANCEL Button Specifications:\n",
            "Button name:CANCEL\n",
            "Number of the border characters for the top and the bottom:28\n",
            "Number of spaces between the left side border and the first character of the button\n",
            "name: 10\n",
            "Number of spaces between the right side border and the last character of the button\n",
            "name: 10\n",
            "Characters representing the borders: x\n",
            "xxxxxxxxxxxxxxxxxxxxxxxxxxxx\n",
            "x           CANCEL         x\n",
            "xxxxxxxxxxxxxxxxxxxxxxxxxxxx\n",
            "=======================================================\n",
            "Notify Button Specifications:\n",
            "Button name:Notify\n",
            "Number of the border characters for the top and the bottom:14\n",
            "Number of spaces between the left side border and the first character of the button\n",
            "name: 3\n",
            "Number of spaces between the right side border and the last character of the button\n",
            "name: 3\n",
            "Characters representing the borders: x\n",
            "!!!!!!!!!!!!!!\n",
            "!    Notify  !\n",
            "!!!!!!!!!!!!!!\n",
            "=======================================================\n",
            "SAVE PROGRESS Button Specifications:\n",
            "Button name:SAVE PROGRESS\n",
            "Number of the border characters for the top and the bottom:25\n",
            "Number of spaces between the left side border and the first character of the button\n",
            "name: 5\n",
            "Number of spaces between the right side border and the last character of the button\n",
            "name: 5\n",
            "Characters representing the borders: x\n",
            "$$$$$$$$$$$$$$$$$$$$$$$$$\n",
            "$      SAVE PROGRESS    $\n",
            "$$$$$$$$$$$$$$$$$$$$$$$$$\n"
          ]
        }
      ]
    },
    {
      "cell_type": "code",
      "source": [
        "#TAsk-08\n",
        "class Calculator:\n",
        "    def __init__(self, first_value, operator, second_value):\n",
        "        print(\"Let's Calculate!\")\n",
        "        self.first_value = first_value\n",
        "        self.operator = operator\n",
        "        self.second_value = second_value\n",
        "\n",
        "        print(f\"Value 1: {self.first_value}\")\n",
        "        print(f\"Operator: {self.operator}\")\n",
        "        print(f\"Value 2: {self.second_value}\")\n",
        "\n",
        "        if self.operator == \"+\":\n",
        "            Calculator.add(self)\n",
        "        elif self.operator == \"-\":\n",
        "            Calculator.subtract(self)\n",
        "        elif self.operator == \"*\":\n",
        "            Calculator.multiply(self)\n",
        "        elif self.operator == \"/\":\n",
        "            Calculator.divide(self)\n",
        "\n",
        "    def add(self):\n",
        "        print(f\"Result : {self.first_value + self.second_value}\")\n",
        "\n",
        "    def subtract(self):\n",
        "        print(f\"Result : {self.first_value - self.second_value}\")\n",
        "\n",
        "    def multiply(self):\n",
        "        print(f\"Result : {self.first_value * self.second_value}\")\n",
        "\n",
        "    def divide(self):\n",
        "        print(f\"Result : {self.first_value / self.second_value}\")\n",
        "\n",
        "\n",
        "first_value = int(input())\n",
        "operator = input()\n",
        "second_value = int(input())\n",
        "\n",
        "calc = Calculator(first_value, operator, second_value)"
      ],
      "metadata": {
        "id": "e-Uv-8oAWFY3",
        "colab": {
          "base_uri": "https://localhost:8080/"
        },
        "outputId": "0aa97de2-beb5-4a0f-fad8-74bc4d56bbe0"
      },
      "execution_count": null,
      "outputs": [
        {
          "output_type": "stream",
          "name": "stdout",
          "text": [
            "10\n",
            "+\n",
            "30\n",
            "Let's Calculate!\n",
            "Value 1: 10\n",
            "Operator: +\n",
            "Value 2: 30\n",
            "Result : 40\n"
          ]
        }
      ]
    },
    {
      "cell_type": "code",
      "source": [
        "#Task-09\n",
        "\n",
        "class Patient:\n",
        "    def __init__(self,name,age,weight,height):\n",
        "        self.name=name\n",
        "        self.age=age\n",
        "        self.weight=weight\n",
        "        self.height=height\n",
        "        self.bmi=weight/((height/100)**2)\n",
        "    def printDetails(self):\n",
        "        print(f\"Name: {self.name}\\nAge: {self.age}\\nWeight: {self.weight} kg\\nHeight: {self.height}cm\\nBMI: {self.bmi}\")\n",
        "\n",
        "\n",
        "p1 = Patient(\"A\", 55, 63.0, 158.0)\n",
        "p1.printDetails()\n",
        "print(\"====================\")\n",
        "p2 = Patient(\"B\", 53, 61.0, 149.0)\n",
        "p2.printDetails()\n",
        "\n"
      ],
      "metadata": {
        "id": "4G7C1mkIUdiq",
        "colab": {
          "base_uri": "https://localhost:8080/"
        },
        "outputId": "f4a81d2f-806e-48ea-b761-4adf6d82b566"
      },
      "execution_count": null,
      "outputs": [
        {
          "output_type": "stream",
          "name": "stdout",
          "text": [
            "Name: A\n",
            "Age: 55\n",
            "Weight: 63.0 kg\n",
            "Height: 158.0cm\n",
            "BMI: 25.236340330075304\n",
            "====================\n",
            "Name: B\n",
            "Age: 53\n",
            "Weight: 61.0 kg\n",
            "Height: 149.0cm\n",
            "BMI: 27.476239809017613\n"
          ]
        }
      ]
    },
    {
      "cell_type": "code",
      "source": [
        "#Task-10\n",
        "class Vehicle:\n",
        "    def __init__(self):\n",
        "        self.x_axis = 0\n",
        "        self.y_axis = 0\n",
        "\n",
        "    def moveUp(self):\n",
        "        self.y_axis += 1\n",
        "\n",
        "    def moveDown(self):\n",
        "        self.y_axis -= 1\n",
        "\n",
        "    def moveRight(self):\n",
        "        self.x_axis += 1\n",
        "\n",
        "    def moveLeft(self):\n",
        "        self.x_axis -= 1\n",
        "\n",
        "    def print_position(self):\n",
        "        print(f\"({self.x_axis}, {self.y_axis})\")\n",
        "\n",
        "\n",
        "car = Vehicle()\n",
        "car.print_position()\n",
        "car.moveUp()\n",
        "car.print_position()\n",
        "car.moveLeft()\n",
        "car.print_position()\n",
        "car.moveDown()\n",
        "car.print_position()\n",
        "car.moveRight()"
      ],
      "metadata": {
        "id": "-BYu12x_Uf2q",
        "colab": {
          "base_uri": "https://localhost:8080/"
        },
        "outputId": "a80feeed-7d99-4a2d-aec6-d04a7c9ae974"
      },
      "execution_count": null,
      "outputs": [
        {
          "output_type": "stream",
          "name": "stdout",
          "text": [
            "(0, 0)\n",
            "(0, 1)\n",
            "(-1, 1)\n",
            "(-1, 0)\n"
          ]
        }
      ]
    },
    {
      "cell_type": "code",
      "source": [
        "#Task-11\n",
        "class Shape:\n",
        "  def __init__(self,name,a,b):\n",
        "     self.name=name\n",
        "     self.a=a\n",
        "     self.b=b\n",
        "  \n",
        "  def area(self):\n",
        "     if self.name==\"Triangle\":\n",
        "        print(f'Area:{.5*self.a*self.b}')\n",
        "     elif self.name==\"Square\":\n",
        "        print(f\"Area: {self.a*self.b}\")\n",
        "     elif self.name==\"Rhombus\":\n",
        "        print(f\"Area: {.5*self.a*self.b}\")   \n",
        "     elif self.name==\"Rectangle\":\n",
        "        print(f\"Area: {self.a*self.b}\")\n",
        "     else:\n",
        "        print(\"Area: Shape unknown \")\n",
        " \n",
        "triangle = Shape(\"Triangle\",10,25)\n",
        "triangle.area()\n",
        "print(\"==========================\")\n",
        "square = Shape(\"Square\",10,10)\n",
        "square.area()\n",
        "print(\"==========================\")\n",
        "rhombus = Shape(\"Rhombus\",18,25)\n",
        "rhombus.area()\n",
        "print(\"==========================\")\n",
        "rectangle = Shape(\"Rectangle\",15,30)\n",
        "rectangle.area()\n",
        "print(\"==========================\")\n",
        "trapezium = Shape(\"Trapezium\",15,30)\n",
        "trapezium.area()\n",
        "\n"
      ],
      "metadata": {
        "id": "pS2dY34WU6l5",
        "colab": {
          "base_uri": "https://localhost:8080/"
        },
        "outputId": "7b6f06f6-7275-4b29-9a7e-7ffd3ae59798"
      },
      "execution_count": null,
      "outputs": [
        {
          "output_type": "stream",
          "name": "stdout",
          "text": [
            "Area:125.0\n",
            "==========================\n",
            "Area: 100\n",
            "==========================\n",
            "Area: 225.0\n",
            "==========================\n",
            "Area: 450\n",
            "==========================\n",
            "Area: Shape unknown \n"
          ]
        }
      ]
    },
    {
      "cell_type": "code",
      "source": [
        "#TAsk-12\n",
        "class  Calculator:\n",
        "    def __init__(self):\n",
        "      print(\"Calculator is ready!\")\n",
        "      \n",
        "      \n",
        "    def calculate(self,a,b,op):\n",
        "       \n",
        "       if op==\"+\":\n",
        "          value=a+b\n",
        "          self.equation=str(a)+'+'+str(b)+'='+str(value)\n",
        "          return value\n",
        "       elif op==\"-\":\n",
        "          value=a-b\n",
        "          self.equation=str(a)+'-'+str(b)+'='+str(value)\n",
        "          return value\n",
        "       elif op==\"*\":\n",
        "          value=a*b\n",
        "          self.equation=str(a)+'*'+str(b)+'='+str(value)\n",
        "          return value\n",
        "          \n",
        "       elif op=='/':\n",
        "          \n",
        "          value=a/b\n",
        "          self.equation=str(a)+'/'+str(b)+'='+str(value)\n",
        "          return value\n",
        "        \n",
        "    def  showCalculation(self):\n",
        "        print(self.equation)\n",
        "\n",
        "\n",
        "\n",
        "\n",
        "\n",
        "c1 = Calculator()\n",
        "print(\"==================\")\n",
        "val = c1.calculate(10, 20, '+')\n",
        "print(\"Returned value:\", val)\n",
        "c1.showCalculation()\n",
        "print(\"==================\")\n",
        "val = c1.calculate(val, 10, '-')\n",
        "print(\"Returned value:\", val)\n",
        "c1.showCalculation()\n",
        "print(\"==================\")\n",
        "val = c1.calculate(val, 5, '*')\n",
        "print(\"Returned value:\", val)\n",
        "c1.showCalculation()\n",
        "print(\"==================\")\n",
        "val = c1.calculate(val, 16, '/')\n",
        "print(\"Returned value:\", val)\n",
        "c1.showCalculation()\n"
      ],
      "metadata": {
        "id": "7z7ZrYMjU725",
        "colab": {
          "base_uri": "https://localhost:8080/"
        },
        "outputId": "eb3bcabc-213d-48b0-e2f7-33c6bdbdd859"
      },
      "execution_count": null,
      "outputs": [
        {
          "output_type": "stream",
          "name": "stdout",
          "text": [
            "Calculator is ready!\n",
            "==================\n",
            "Returned value: 30\n",
            "10+20=30\n",
            "==================\n",
            "Returned value: 20\n",
            "30-10=20\n",
            "==================\n",
            "Returned value: 100\n",
            "20*5=100\n",
            "==================\n",
            "Returned value: 6.25\n",
            "100/16=6.25\n"
          ]
        }
      ]
    },
    {
      "cell_type": "code",
      "source": [
        "#TAsk-13\n",
        "class Programmer:\n",
        "    def __init__(self,name,language,exp):\n",
        "        self.name=name\n",
        "        self.language=language\n",
        "        self.exp=exp\n",
        "        print('Horray! A new programmer is born')\n",
        "\n",
        "    def addExp(self, additional_exp):\n",
        "\n",
        "        print(f\"Updating experience of {self.name}\")\n",
        "        self.exp += additional_exp\n",
        "    def printDetails(self):\n",
        "\n",
        "        print(f\"Name: {self.name}\")\n",
        "        print(f\"Language: {self.language}\")\n",
        "        print(f\"Experience: {self.exp} years\")\n",
        "\n",
        "\n",
        "p1 = Programmer(\"Ethen Hunt\", \"Java\", 10)\n",
        "p1.printDetails()\n",
        "print('--------------------------')\n",
        "p2 = Programmer(\"James Bond\", \"C++\", 7)\n",
        "p2.printDetails()\n",
        "print('--------------------------')\n",
        "p3 = Programmer(\"Jon Snow\", \"Python\", 4)\n",
        "p3.printDetails()\n",
        "p3.addExp(5)\n",
        "p3.printDetails()\n"
      ],
      "metadata": {
        "id": "dKKs2_4ZU9-A",
        "colab": {
          "base_uri": "https://localhost:8080/"
        },
        "outputId": "8d804ce2-9e8a-4902-e5a9-75327adfda1a"
      },
      "execution_count": null,
      "outputs": [
        {
          "output_type": "stream",
          "name": "stdout",
          "text": [
            "Horray! A new programmer is born\n",
            "Name: Ethen Hunt\n",
            "Language: Java\n",
            "Experience: 10 years\n",
            "--------------------------\n",
            "Horray! A new programmer is born\n",
            "Name: James Bond\n",
            "Language: C++\n",
            "Experience: 7 years\n",
            "--------------------------\n",
            "Horray! A new programmer is born\n",
            "Name: Jon Snow\n",
            "Language: Python\n",
            "Experience: 4 years\n",
            "Updating experience of Jon Snow\n",
            "Name: Jon Snow\n",
            "Language: Python\n",
            "Experience: 9 years\n"
          ]
        }
      ]
    }
  ]
}