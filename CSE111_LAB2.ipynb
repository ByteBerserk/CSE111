{
  "nbformat": 4,
  "nbformat_minor": 0,
  "metadata": {
    "colab": {
      "provenance": [],
      "authorship_tag": "ABX9TyPIcldH19JlBY5U+AZiF1Ia",
      "include_colab_link": true
    },
    "kernelspec": {
      "name": "python3",
      "display_name": "Python 3"
    },
    "language_info": {
      "name": "python"
    }
  },
  "cells": [
    {
      "cell_type": "markdown",
      "metadata": {
        "id": "view-in-github",
        "colab_type": "text"
      },
      "source": [
        "<a href=\"https://colab.research.google.com/github/ByteBerserk/CSE111/blob/main/CSE111_LAB2.ipynb\" target=\"_parent\"><img src=\"https://colab.research.google.com/assets/colab-badge.svg\" alt=\"Open In Colab\"/></a>"
      ]
    },
    {
      "cell_type": "code",
      "execution_count": null,
      "metadata": {
        "colab": {
          "base_uri": "https://localhost:8080/"
        },
        "id": "laR6VHCHSGcR",
        "outputId": "34a806d6-aad5-45d4-f6bd-446ee772eee3"
      },
      "outputs": [
        {
          "output_type": "stream",
          "name": "stdout",
          "text": [
            "0.5\n"
          ]
        }
      ],
      "source": [
        "#Task_1\n",
        "def divider(a,b):\n",
        "    if b==0:\n",
        "      return 0\n",
        "    else:\n",
        "      x=a/b\n",
        "      y=a//b\n",
        "      return (x-y)\n",
        "print(divider(5,2))"
      ]
    },
    {
      "cell_type": "code",
      "source": [
        "#Task_2\n",
        "def BMI(height, weight):\n",
        "    height=height/100\n",
        "    BMI = weight/(height**2)\n",
        "    if BMI<18.5:\n",
        "       output='Underweight'\n",
        "    elif 18.5<=BMI<=24.9:\n",
        "       output='Normal'\n",
        "    elif 25<=BMI<=30:\n",
        "       output='Overweight'\n",
        "    elif BMI> 30:\n",
        "       output='Obese'\n",
        "    \n",
        "    return f\"Score is {BMI:.1f}. You are {output}\"\n",
        "print(BMI(175, 96))\n"
      ],
      "metadata": {
        "colab": {
          "base_uri": "https://localhost:8080/"
        },
        "id": "x7C0m7EKTQCq",
        "outputId": "c5e4d66e-cb9d-4471-bf55-e005b53443ca"
      },
      "execution_count": null,
      "outputs": [
        {
          "output_type": "stream",
          "name": "stdout",
          "text": [
            "Score is 31.3. You are Obese\n"
          ]
        }
      ]
    },
    {
      "cell_type": "code",
      "source": [
        "#Task_3\n",
        "def func(min,max,div):\n",
        "  sum=0\n",
        "  for i in range(min,max):\n",
        "      if i%div==0:\n",
        "        sum+=i\n",
        "  return sum\n",
        "print(func(0,10,2))"
      ],
      "metadata": {
        "colab": {
          "base_uri": "https://localhost:8080/"
        },
        "id": "fKObjzwqXPAn",
        "outputId": "d3d176f3-77f8-429b-d4d5-401ad5c608d8"
      },
      "execution_count": null,
      "outputs": [
        {
          "output_type": "stream",
          "name": "stdout",
          "text": [
            "20\n"
          ]
        }
      ]
    },
    {
      "cell_type": "code",
      "source": [
        "#Task_04\n",
        "\n",
        "def burger(name,location=\"Mohakhali\"):\n",
        "  total_price=0\n",
        "  if name==\"BBQ Chicken Cheese Burger\":\n",
        "    total_price+= 250+(250*8/100)\n",
        "  elif name==\"Beef Burger\":\n",
        "    total_price+= 170+(170*8/100)\n",
        "  elif name==\"Naga Drums\":\n",
        "    total_price+= 200+(200*8/100)\n",
        "  \n",
        "  if location==\"Mohakhali\":\n",
        "    total_price+=40\n",
        "  else:\n",
        "    total_price+=60\n",
        "\n",
        "  print(total_price)\n",
        "\n",
        "burger(\"Beef Burger\",\"Dhanmondi\")"
      ],
      "metadata": {
        "colab": {
          "base_uri": "https://localhost:8080/"
        },
        "id": "9reQto7vaf-b",
        "outputId": "b2883316-fe3e-4bbb-e27d-9dc5509e6db0"
      },
      "execution_count": null,
      "outputs": [
        {
          "output_type": "stream",
          "name": "stdout",
          "text": [
            "243.6\n"
          ]
        }
      ]
    },
    {
      "cell_type": "code",
      "source": [
        "#Task_5\n",
        "def replace_domain(email, domain, old_domain=\"kaaj.com\"):\n",
        "  new_email =email.split(\"@\")\n",
        "  if new_email[1]==domain:\n",
        "    print(f\"Unchanged: {email}\")\n",
        "  else:\n",
        "    print(f\"Changed: {new_email[0]}@{domain}\")\n",
        "replace_domain('bob@sheba.xyz', 'sheba.xyz')"
      ],
      "metadata": {
        "colab": {
          "base_uri": "https://localhost:8080/"
        },
        "id": "ODzOdhV4PMxk",
        "outputId": "809de6ec-af6a-46f7-8a15-2e32164cf3df"
      },
      "execution_count": null,
      "outputs": [
        {
          "output_type": "stream",
          "name": "stdout",
          "text": [
            "Unchanged: bob@sheba.xyz\n"
          ]
        }
      ]
    },
    {
      "cell_type": "code",
      "source": [
        "#Task_6\n",
        "def function(a):\n",
        "     a=a.lower()\n",
        "     str1=''\n",
        "     str2=''\n",
        "     lst=[]\n",
        "     b=['a','e','i','o','u']\n",
        "     for i in a:\n",
        "       if i in b:\n",
        "           str1+=i\n",
        "     num=len(str1)\n",
        "     for i in str1:\n",
        "        str2=str2+i+','\n",
        "     str2=str2[0:-1]\n",
        "     if num==0:\n",
        "        print(\"No vowels in the name\")\n",
        "     else:\n",
        "        print(f\"Vowels:{str2}. Total number of vowels: {num}\")\n",
        "function('Steve Jobs')\n"
      ],
      "metadata": {
        "colab": {
          "base_uri": "https://localhost:8080/"
        },
        "id": "nXpWYJxmcg98",
        "outputId": "a7896bc8-1494-4904-8cab-c70ddbcc7e8c"
      },
      "execution_count": null,
      "outputs": [
        {
          "output_type": "stream",
          "name": "stdout",
          "text": [
            "Vowels:e,e,o. Total number of vowels: 3\n"
          ]
        }
      ]
    },
    {
      "cell_type": "code",
      "source": [
        "#TASK6_type2\n",
        "def vowel(string):\n",
        "    vowel1 = \"aeiouAEIOU\"\n",
        "    new= \"\"\n",
        "    total=0\n",
        "    for i in string:\n",
        "        if i in vowel1:\n",
        "            new += i + \", \"\n",
        "            total += 1\n",
        "    if total == 0:\n",
        "        print(\"No vowels in the name\")\n",
        "    else:\n",
        "        print(f\"Vowels: {new[:-2]}. Total number of vowels: {total}\")\n",
        "vowel(\"Steve Jobs\")"
      ],
      "metadata": {
        "colab": {
          "base_uri": "https://localhost:8080/"
        },
        "id": "cCY40sAweMUE",
        "outputId": "66290681-830c-4c7a-b57f-1f1475e8e242"
      },
      "execution_count": null,
      "outputs": [
        {
          "output_type": "stream",
          "name": "stdout",
          "text": [
            "Vowels: e, e, o. Total number of vowels: 3\n"
          ]
        }
      ]
    },
    {
      "cell_type": "code",
      "source": [
        "#tAsk_7\n",
        "def palindrome(s):\n",
        "  str1=''\n",
        "  for i in s:\n",
        "    if i!=' ':\n",
        "      str1+=i\n",
        "  if len(str1)%2==0:\n",
        "     a=len(str1)//2\n",
        "     x=str1[0:a:]\n",
        "     y=str1[a::]\n",
        "     y=y[::-1]\n",
        "     if x==y:\n",
        "       print(\"Palindrome\")\n",
        "     else:\n",
        "       print(\"Not a Palindrome\")\n",
        "  else:\n",
        "     a=len(str1)//2\n",
        "     x=str1[0:a]\n",
        "     y=str1[a+1::]\n",
        "     y=y[::-1]\n",
        "     if x==y:\n",
        "       print(\"Palindrome\")\n",
        "     else:\n",
        "       print(\"Not a Palindrome\")\n",
        "palindrome(\"hello\")"
      ],
      "metadata": {
        "colab": {
          "base_uri": "https://localhost:8080/"
        },
        "id": "pRb1X8ISc2Fb",
        "outputId": "2cdf6e7f-c6e1-427c-a58c-627a8aa459e9"
      },
      "execution_count": null,
      "outputs": [
        {
          "output_type": "stream",
          "name": "stdout",
          "text": [
            "Not a Palindrome\n"
          ]
        }
      ]
    },
    {
      "cell_type": "code",
      "source": [
        "#Task_7 #type2\n",
        "def palindrome(word):\n",
        "    word = word.lower()\n",
        "    string = \"\"\n",
        "    for i in word:\n",
        "      if i != \" \":\n",
        "        string += i\n",
        "    if string == string[::-1]:\n",
        "        print(\"Palindrome\")\n",
        "    else:\n",
        "        print(\"Not a palindrome\")\n",
        "\n",
        "palindrome(\"madam\")"
      ],
      "metadata": {
        "colab": {
          "base_uri": "https://localhost:8080/"
        },
        "id": "pAqyhfLrdiCX",
        "outputId": "f77d9f2b-86f0-41b4-ea3b-4b7938244e77"
      },
      "execution_count": null,
      "outputs": [
        {
          "output_type": "stream",
          "name": "stdout",
          "text": [
            "Palindrome\n"
          ]
        }
      ]
    },
    {
      "cell_type": "code",
      "source": [
        "#Task8\n",
        "def function(s):\n",
        " \n",
        "\n",
        "\n",
        "   years = s// 365\n",
        "\n",
        "\n",
        "   months = (s -years*365) // 30\n",
        " \n",
        "   days = s- (years*365 +months*30)\n",
        "   print(f\"{years} years, {months} months and {days} days\")\n",
        "function(4320)"
      ],
      "metadata": {
        "colab": {
          "base_uri": "https://localhost:8080/"
        },
        "id": "l8cZLubHqEVa",
        "outputId": "de15e6a2-6db8-4d0d-e580-b0476978cde7"
      },
      "execution_count": null,
      "outputs": [
        {
          "output_type": "stream",
          "name": "stdout",
          "text": [
            "11 years, 10 months and 5 days\n"
          ]
        }
      ]
    },
    {
      "cell_type": "code",
      "source": [
        "\n",
        "#Task_9 #approach1\n",
        "def Puntucation_fix(string):\n",
        "  str1=\"\"\n",
        "  if 'a' <= string[0] <= 'z':\n",
        "    str1 += chr(ord(string[0])-32)\n",
        "  i = 1\n",
        "  while i < len(string)-1:\n",
        "    if string[i] == 'i' and string[i+1] == ' ' and string[i-1] == ' ':\n",
        "      str1 += chr(ord(string[i])-32)\n",
        "      i += 1\n",
        "    elif string[i]==\".\" or string[i]==\"!\" or string[i]==\"?\":\n",
        "      str1 += string[i] + string[i+1] + chr(ord(string[i+2])).upper()\n",
        "      i += 3\n",
        "    else:\n",
        "      str1+=string[i]\n",
        "      i += 1\n",
        "  \n",
        "  return str1\n",
        "print(Puntucation_fix(\"my favourite animal is a dog. a dog has sharp teeth so that it can eat flesh very easily. do you know my pet dog’s name? i love my pet very much.\"))\n"
      ],
      "metadata": {
        "id": "-lDLdLPCriiV",
        "colab": {
          "base_uri": "https://localhost:8080/"
        },
        "outputId": "35b084c2-faf9-4685-bbcc-711bf097bdc1"
      },
      "execution_count": null,
      "outputs": [
        {
          "output_type": "stream",
          "name": "stdout",
          "text": [
            "My favourite animal is a dog. A dog has sharp teeth so that it can eat flesh very easily. Do you know my pet dog’s name? I love my pet very much\n"
          ]
        }
      ]
    },
    {
      "cell_type": "code",
      "source": [
        "#Task_9 #aprroach-2\n",
        "def function(string):\n",
        "\n",
        "    string1=''\n",
        "    for i in range (len(string)):\n",
        "       \n",
        "        if i==0:\n",
        "            string1+=string[i].upper()\n",
        "           \n",
        "        elif string[i-1]==' ' and(string[i-2]=='.' or string[i-2]=='?' or string[i-2]=='!'):\n",
        "            string1+=string[i].upper()\n",
        "        elif string[i]=='i':\n",
        "            if string[i-1]==' ' and string[i+1]==' ':\n",
        "                string1+=string[i].upper()\n",
        "            else:\n",
        "                string1+=string[i]\n",
        "        else:\n",
        "            string1+=string[i]\n",
        "    return(string1)\n",
        "    \n",
        "print(function('my favourite animal is a dog. a dog has sharp teeth so that it can eat flesh very easily. do you know my pet dog’s name? i love my pet very much.'))"
      ],
      "metadata": {
        "colab": {
          "base_uri": "https://localhost:8080/"
        },
        "id": "pwzPN-ljL3aN",
        "outputId": "c20fa41a-1501-4359-8653-79182e6d8dcd"
      },
      "execution_count": null,
      "outputs": [
        {
          "output_type": "stream",
          "name": "stdout",
          "text": [
            "My favourite animal is a dog. A dog has sharp teeth so that it can eat flesh very easily. Do you know my pet dog’s name? I love my pet very much.\n"
          ]
        }
      ]
    }
  ]
}