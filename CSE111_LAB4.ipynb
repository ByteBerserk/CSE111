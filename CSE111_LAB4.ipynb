{
  "nbformat": 4,
  "nbformat_minor": 0,
  "metadata": {
    "colab": {
      "provenance": [],
      "authorship_tag": "ABX9TyPPHrKPN3t2D29swLqxEmfy"
    },
    "kernelspec": {
      "name": "python3",
      "display_name": "Python 3"
    },
    "language_info": {
      "name": "python"
    }
  },
  "cells": [
    {
      "cell_type": "code",
      "execution_count": null,
      "metadata": {
        "id": "xSzAcYoyhhMl",
        "colab": {
          "base_uri": "https://localhost:8080/"
        },
        "outputId": "541ba49d-1908-4347-94e4-1ceec90bafaf"
      },
      "outputs": [
        {
          "output_type": "stream",
          "name": "stdout",
          "text": [
            "Hello\n",
            "Sam, you purchased 3 item(s): \n",
            "chips\n",
            "chocolate\n",
            "orange juice\n",
            "-----------------------------\n",
            "Hello David!\n",
            "David, you purchased 1 item(s): \n",
            "orange juice\n"
          ]
        }
      ],
      "source": [
        "#Task_01\n",
        "class Customer:\n",
        "    def __init__(self,name):\n",
        "        self.name=name\n",
        "    def greet(self,a=None):\n",
        "        if a==None:\n",
        "            print(\"Hello\")\n",
        "        else:\n",
        "            print(f\"Hello {a}!\")\n",
        "    def purchase(self,*a):\n",
        "        print(f\"{self.name}, you purchased {len(a)} item(s): \")\n",
        "        for i in a:\n",
        "          print(i)\n",
        "\n",
        "\n",
        "customer_1 = Customer(\"Sam\")\n",
        "customer_1.greet()\n",
        "customer_1.purchase(\"chips\", \"chocolate\", \"orange juice\")\n",
        "print(\"-----------------------------\")\n",
        "customer_2 = Customer(\"David\")\n",
        "customer_2.greet(\"David\")\n",
        "customer_2.purchase(\"orange juice\")"
      ]
    },
    {
      "cell_type": "code",
      "source": [
        "#Task_02\n",
        "class Panda:\n",
        "    def __init__(self,name,gender,age):\n",
        "        self.name=name\n",
        "        self.gender=gender\n",
        "        self.age=age\n",
        "    def sleep(self,time=0):\n",
        "        if 3<=time<=5:\n",
        "            return(f'{self.name} sleeps for {time} hours daily and should have Brocoli chicken')\n",
        "        elif 6<=time<=8:\n",
        "            return(f\"{self.name} sleeps for {time} hours daily and should have Eggplant & Tofu\")\n",
        "       \n",
        "        elif 9<=time<=11:\n",
        "            return(f\"{self.name} sleeps for {time} hours daily and should have only Broccoli Chicken\")\n",
        "        elif time==0:\n",
        "            return(f\"{self.name}'s duration is unknown thus should have only bamboo leaves\")\n",
        "\n",
        "\n",
        "panda1 = Panda(\"Kunfu\", \"Male\", 5)\n",
        "panda2 = Panda(\"Pan Pan\", \"Female\",3)\n",
        "panda3 = Panda(\"Ming Ming\", \"Female\",8)\n",
        "\n",
        "print(\"{} is a {} Panda Bear who is {} years old\".format(panda1.name,panda1.gender,panda1.age))\n",
        "\n",
        "print(\"{} is a {} Panda Bear who is {} years old\".format(panda2.name,panda2.gender,panda2.age))\n",
        "\n",
        "print(\"{} is a {} Panda Bear who is {} years old\".format(panda3.name,panda3.gender,panda3.age))\n",
        "print(\"===========================\")\n",
        "print(panda2.sleep(10))\n",
        "print(panda1.sleep(4))\n",
        "print(panda3.sleep())"
      ],
      "metadata": {
        "id": "C_TmOKVYhtPr",
        "colab": {
          "base_uri": "https://localhost:8080/"
        },
        "outputId": "c00bffa5-628b-4daa-cd9b-86dba4470409"
      },
      "execution_count": null,
      "outputs": [
        {
          "output_type": "stream",
          "name": "stdout",
          "text": [
            "Kunfu is a Male Panda Bear who is 5 years old\n",
            "Pan Pan is a Female Panda Bear who is 3 years old\n",
            "Ming Ming is a Female Panda Bear who is 8 years old\n",
            "===========================\n",
            "Pan Pan sleeps for 10 hours daily and should have only Broccoli Chicken\n",
            "Kunfu sleeps for 4 hours daily and should have Brocoli chicken\n",
            "Ming Ming's duration is unknown thus should have only bamboo leaves\n"
          ]
        }
      ]
    },
    {
      "cell_type": "code",
      "source": [
        "#Task_03\n",
        "class Cat:\n",
        "  def __init__(self, color=\"White\", activity=\"sitting\"):       \n",
        "     self.color = color        \n",
        "     self.activity = activity\n",
        "  def printCat(self):        \n",
        "    print(f\"{self.color} cat is {self.activity}\")\n",
        "  def changeColor(self, new_color):       \n",
        "    self.color = new_color\n",
        "\n",
        " \n",
        "c1 = Cat()\n",
        "c2 = Cat(\"Black\")\n",
        "c3 = Cat(\"Brown\", \"jumping\")\n",
        "c4 = Cat(\"Red\", \"purring\")\n",
        "c1.printCat()\n",
        "c2.printCat()\n",
        "c3.printCat()\n",
        "c4.printCat()\n",
        "c1.changeColor(\"Blue\")\n",
        "c3.changeColor(\"Purple\")\n",
        "c1.printCat()\n",
        "c3.printCat()\n"
      ],
      "metadata": {
        "id": "Nj6yr4KmmDns",
        "colab": {
          "base_uri": "https://localhost:8080/"
        },
        "outputId": "fb7fd9a3-7ea0-4d5d-dc49-0c420c4f0b98"
      },
      "execution_count": 2,
      "outputs": [
        {
          "output_type": "stream",
          "name": "stdout",
          "text": [
            "White cat is sitting\n",
            "Black cat is sitting\n",
            "Brown cat is jumping\n",
            "Red cat is purring\n",
            "Blue cat is sitting\n",
            "Purple cat is jumping\n"
          ]
        }
      ]
    },
    {
      "cell_type": "code",
      "source": [
        "#Task_04\n",
        "\n",
        "class Student:\n",
        "    def __init__(self, name=\"default student\"):\n",
        "        self.name = name\n",
        "\n",
        "    def quizcalc(self, *score):\n",
        "        average = sum(list(score)) / 3\n",
        "        self.message = f\"Your average quiz score is {average}\"\n",
        "\n",
        "    def printdetail(self):\n",
        "        print(f\"Hello {self.name}\")\n",
        "        print(self.message)\n",
        "\n",
        "\n",
        "s1 = Student()\n",
        "s1.quizcalc(10)\n",
        "print(\"--------------------------------\")\n",
        "s1.printdetail()\n",
        "s2 = Student(\"Harry\")\n",
        "s2.quizcalc(10, 8)\n",
        "print(\"--------------------------------\")\n",
        "s2.printdetail()\n",
        "s3 = Student(\"Hermione\")\n",
        "s3.quizcalc(10, 9, 10)\n",
        "print(\"--------------------------------\")\n",
        "s3.printdetail()"
      ],
      "metadata": {
        "colab": {
          "base_uri": "https://localhost:8080/"
        },
        "id": "R4ZDzON4bMjJ",
        "outputId": "e6b95181-c2b0-4a85-f8be-60e1ffb6338e"
      },
      "execution_count": null,
      "outputs": [
        {
          "output_type": "stream",
          "name": "stdout",
          "text": [
            "--------------------------------\n",
            "Hello default student\n",
            "Your average quiz score is 3.3333333333333335\n",
            "--------------------------------\n",
            "Hello Harry\n",
            "Your average quiz score is 6.0\n",
            "--------------------------------\n",
            "Hello Hermione\n",
            "Your average quiz score is 9.666666666666666\n"
          ]
        }
      ]
    },
    {
      "cell_type": "code",
      "source": [
        "#Task_05\n",
        "class Student:\n",
        "    def __init__(self, name, ID, dept=\"CSE\"):\n",
        "        self.name = name\n",
        "        self.ID = ID\n",
        "        self.dept = dept\n",
        "\n",
        "    def dailyEffort(self, hours):\n",
        "        self.hours = hours\n",
        "\n",
        "    def printDetails(self):\n",
        "        print(f\"Name: {self.name}\")\n",
        "        print(f\"ID: {self.ID}\")\n",
        "        print(f\"Department: {self.dept}\")\n",
        "        print(f\"Daily Effort: {self.hours} hour(s)\")\n",
        "\n",
        "        if self.hours <= 2:\n",
        "            print(\"Suggestion: Should give more effort!\")\n",
        "        elif self.hours <= 4:\n",
        "            print(\"Suggestion: Keep up the good work!\")\n",
        "        else:\n",
        "            print(\"Suggestion: Execellent! Now motivate others.\")\n",
        "\n",
        "\n",
        "harry = Student(\"Harry Potter\", 123)\n",
        "harry.dailyEffort(3)\n",
        "harry.printDetails()\n",
        "print(\"========================\")\n",
        "john = Student(\"John Wick\", 456, \"BBA\")\n",
        "john.dailyEffort(2)\n",
        "john.printDetails()\n",
        "print(\"========================\")\n",
        "naruto = Student(\"Naruto Uzumaki\", 777, \"Ninja\")\n",
        "naruto.dailyEffort(6)\n",
        "naruto.printDetails()"
      ],
      "metadata": {
        "colab": {
          "base_uri": "https://localhost:8080/"
        },
        "id": "b0Z0R7_Ybqi5",
        "outputId": "f3c507c5-7261-4c94-961a-2b5e9851b0f7"
      },
      "execution_count": null,
      "outputs": [
        {
          "output_type": "stream",
          "name": "stdout",
          "text": [
            "Name: Harry Potter\n",
            "ID: 123\n",
            "Department: CSE\n",
            "Daily Effort: 3 hour(s)\n",
            "Suggestion: Keep up the good work!\n",
            "========================\n",
            "Name: John Wick\n",
            "ID: 456\n",
            "Department: BBA\n",
            "Daily Effort: 2 hour(s)\n",
            "Suggestion: Should give more effort!\n",
            "========================\n",
            "Name: Naruto Uzumaki\n",
            "ID: 777\n",
            "Department: Ninja\n",
            "Daily Effort: 6 hour(s)\n",
            "Suggestion: Execellent! Now motivate others.\n"
          ]
        }
      ]
    },
    {
      "cell_type": "code",
      "source": [
        "#Task_06\n",
        "class Patient:\n",
        "    def __init__(self, name, age):\n",
        "        self.name = name\n",
        "        self.age = age\n",
        "\n",
        "    def add_Symptom(self, *symptom):\n",
        "        symptoms = \"\"\n",
        "        for i in symptom:\n",
        "            symptoms += i + \", \"\n",
        "    \n",
        "        self.symptoms = symptoms\n",
        "\n",
        "    def printPatientDetail(self):\n",
        "        print(f\"Name: {self.name}\")\n",
        "        print(f\"Age: {self.age}\")\n",
        "        print(f\"Symptoms: {self.symptoms[:-2]}\")\n",
        "\n",
        "\n",
        "p1 = Patient(\"Thomas\", 23)\n",
        "p1.add_Symptom(\"Headache\")\n",
        "p2 = Patient(\"Carol\", 20)\n",
        "p2.add_Symptom(\"Vomiting\", \"Coughing\")\n",
        "p3 = Patient(\"Mike\", 25)\n",
        "p3.add_Symptom(\"Fever\", \"Headache\", \"Coughing\")\n",
        "print(\"=========================\")\n",
        "p1.printPatientDetail()\n",
        "print(\"=========================\")\n",
        "p2.printPatientDetail()\n",
        "print(\"=========================\")\n",
        "p3.printPatientDetail()\n",
        "print(\"=========================\")"
      ],
      "metadata": {
        "colab": {
          "base_uri": "https://localhost:8080/"
        },
        "id": "w0oLs3fobzZx",
        "outputId": "2d6c2c0d-5483-4222-d85e-a9f2845501a1"
      },
      "execution_count": null,
      "outputs": [
        {
          "output_type": "stream",
          "name": "stdout",
          "text": [
            "=========================\n",
            "Name: Thomas\n",
            "Age: 23\n",
            "Symptoms: Headache\n",
            "=========================\n",
            "Name: Carol\n",
            "Age: 20\n",
            "Symptoms: Vomiting, Coughing\n",
            "=========================\n",
            "Name: Mike\n",
            "Age: 25\n",
            "Symptoms: Fever, Headache, Coughing\n",
            "=========================\n"
          ]
        }
      ]
    },
    {
      "cell_type": "code",
      "source": [
        "#Task_07\n",
        "class Match:\n",
        "  def __init__(self,teams):\n",
        "      teams=teams.split('-')\n",
        "      self.teams=teams\n",
        "      self.run=0\n",
        "      self.wicket=0\n",
        "      self.over=0\n",
        "      print('5..4..3..2..1.. Play !!!')\n",
        "  def add_run(self,run):\n",
        "      self.run+=run\n",
        "  def add_over(self,over):   \n",
        "     if over<5: \n",
        "      self.over+=over\n",
        "     else:\n",
        "      print('Warning! Cannot add 5 over/s (5 over match)') \n",
        "  def add_wicket(self,wicket):\n",
        "      self.wicket+=wicket\n",
        "  def print_scoreboard(self):\n",
        "      return(f'Batting Team: {self.teams[0]}\\nBowling Team: {self.teams[1]}\\nTotal Runs: {self.run} Wickets: {self.wicket} Overs: {self.over}')\n",
        "\n",
        "\n",
        "\n",
        "match1 = Match(\"Rangpur Riders-Cumilla Victorians\")\n",
        "print(\"=========================\")\n",
        "match1.add_run(4)\n",
        "match1.add_run(6)\n",
        "match1.add_over(1)\n",
        "print(match1.print_scoreboard())\n",
        "print(\"=========================\")\n",
        "match1.add_over(5)\n",
        "print(\"=========================\")\n",
        "match1.add_wicket(1)\n",
        "print(match1.print_scoreboard())\n"
      ],
      "metadata": {
        "colab": {
          "base_uri": "https://localhost:8080/"
        },
        "id": "7MDZcGQwb8Zo",
        "outputId": "6964ee05-94a5-4ce2-de3f-2a608c03931e"
      },
      "execution_count": null,
      "outputs": [
        {
          "output_type": "stream",
          "name": "stdout",
          "text": [
            "5..4..3..2..1.. Play !!!\n",
            "=========================\n",
            "Batting Team: Rangpur Riders\n",
            "Bowling Team: Cumilla Victorians\n",
            "Total Runs: 10 Wickets: 0 Overs: 1\n",
            "=========================\n",
            "Warning! Cannot add 5 over/s (5 over match)\n",
            "=========================\n",
            "Batting Team: Rangpur Riders\n",
            "Bowling Team: Cumilla Victorians\n",
            "Total Runs: 10 Wickets: 1 Overs: 1\n"
          ]
        }
      ]
    },
    {
      "cell_type": "code",
      "source": [
        "#Task_08\n",
        "class ParcelKoro:\n",
        "    def __init__(self, name=None, product_weight=None) -> None:\n",
        "        self.name = name\n",
        "        self.product_weight = product_weight\n",
        "        if self.product_weight == None:\n",
        "            self.product_weight = 0\n",
        "\n",
        "    def calculateFee(self, location=None):\n",
        "        self.location = location\n",
        "\n",
        "        if location == None:\n",
        "            location_charge = 50\n",
        "        else:\n",
        "            location_charge = 100\n",
        "\n",
        "        if self.product_weight == 0:\n",
        "            self.total_fee = 0\n",
        "        else:\n",
        "            self.total_fee = (self.product_weight * 20) + location_charge\n",
        "\n",
        "    def printDetails(self):\n",
        "        if self.name == None:\n",
        "            self.name = \"No name set\"\n",
        "\n",
        "        print(f\"Customer Name: {self.name}\")\n",
        "        print(f\"Product Weight: {self.product_weight}\")\n",
        "        print(f\"Total fee: {self.total_fee}\")\n",
        "\n",
        "\n",
        "print(\"**********************\")\n",
        "p1 = ParcelKoro()\n",
        "p1.calculateFee()\n",
        "p1.printDetails()\n",
        "print(\"**********************\")\n",
        "p2 = ParcelKoro(\"Bob The Builder\")\n",
        "p2.calculateFee()\n",
        "p2.printDetails()\n",
        "print(\"----------------------------\")\n",
        "p2.product_weight = 15\n",
        "p2.calculateFee()\n",
        "p2.printDetails()\n",
        "print(\"**********************\")\n",
        "p3 = ParcelKoro(\"Dora The Explorer\", 10)\n",
        "p3.calculateFee(\"Dhanmondi\")\n",
        "p3.printDetails()"
      ],
      "metadata": {
        "colab": {
          "base_uri": "https://localhost:8080/"
        },
        "id": "EKsUmVzkcMmA",
        "outputId": "fdfdc51f-47e9-4870-992e-97c32df0947b"
      },
      "execution_count": null,
      "outputs": [
        {
          "output_type": "stream",
          "name": "stdout",
          "text": [
            "**********************\n",
            "Customer Name: No name set\n",
            "Product Weight: 0\n",
            "Total fee: 0\n",
            "**********************\n",
            "Customer Name: Bob The Builder\n",
            "Product Weight: 0\n",
            "Total fee: 0\n",
            "----------------------------\n",
            "Customer Name: Bob The Builder\n",
            "Product Weight: 15\n",
            "Total fee: 350\n",
            "**********************\n",
            "Customer Name: Dora The Explorer\n",
            "Product Weight: 10\n",
            "Total fee: 300\n"
          ]
        }
      ]
    },
    {
      "cell_type": "code",
      "source": [
        "#Task_09\n",
        "class Batsman:\n",
        "    def __init__(self, *var):\n",
        "        if len(var) == 2:\n",
        "            runs, balls = var\n",
        "        else:\n",
        "            player, runs, balls = var\n",
        "\n",
        "        if len(var) != 2:\n",
        "            self.name = player\n",
        "        else:\n",
        "            self.name = \"New Batsman\"\n",
        "\n",
        "        self.runs = runs\n",
        "        self.balls = balls\n",
        "\n",
        "    def setName(self, name):\n",
        "        self.name = name\n",
        "\n",
        "    def battingStrikeRate(self):\n",
        "        return (self.runs) / (self.balls) * 100\n",
        "\n",
        "    def printCareerStatistics(self):\n",
        "        print(f\"Name: {self.name}\")\n",
        "        print(f\"Runs Scored: {self.runs}, Balls Faced: {self.balls}\")\n",
        "\n",
        "\n",
        "b1 = Batsman(6101, 7380)\n",
        "b1.printCareerStatistics()\n",
        "print(\"============================\")\n",
        "b2 = Batsman(\"Liton Das\", 678, 773)\n",
        "b2.printCareerStatistics()\n",
        "print(\"----------------------------\")\n",
        "print(b2.battingStrikeRate())\n",
        "print(\"============================\")\n",
        "b1.setName(\"Shakib Al Hasan\")\n",
        "b1.printCareerStatistics()\n",
        "print(\"----------------------------\")\n",
        "print(b1.battingStrikeRate())"
      ],
      "metadata": {
        "colab": {
          "base_uri": "https://localhost:8080/"
        },
        "id": "lt0N2CxVcScS",
        "outputId": "c81ad984-129a-46b7-a634-de2ac641fd8e"
      },
      "execution_count": null,
      "outputs": [
        {
          "output_type": "stream",
          "name": "stdout",
          "text": [
            "Name: New Batsman\n",
            "Runs Scored: 6101, Balls Faced: 7380\n",
            "============================\n",
            "Name: Liton Das\n",
            "Runs Scored: 678, Balls Faced: 773\n",
            "----------------------------\n",
            "87.71021992238033\n",
            "============================\n",
            "Name: Shakib Al Hasan\n",
            "Runs Scored: 6101, Balls Faced: 7380\n",
            "----------------------------\n",
            "82.66937669376694\n"
          ]
        }
      ]
    },
    {
      "cell_type": "code",
      "source": [
        "#Task_10\n",
        "class EPL_Team:\n",
        "    def __init__(self, name, song=\"No Slogan\"):\n",
        "        self.name = name\n",
        "        self.song = song\n",
        "        self.title = 0\n",
        "\n",
        "    def increaseTitle(self):\n",
        "        self.title += 1\n",
        "\n",
        "    def changeSong(self, song):\n",
        "        self.song = song\n",
        "\n",
        "    def showClubInfo(self):\n",
        "        return f\"Name: {self.name}\\nSong: {self.song}\\nTotal No of title: {self.title}\"\n",
        "\n",
        "\n",
        "manu = EPL_Team(\"Manchester United\", \"Glory Glory Man United\")\n",
        "chelsea = EPL_Team(\"Chelsea\")\n",
        "print(\"===================\")\n",
        "print(manu.showClubInfo())\n",
        "print(\"##################\")\n",
        "manu.increaseTitle()\n",
        "print(manu.showClubInfo())\n",
        "print(\"===================\")\n",
        "print(chelsea.showClubInfo())\n",
        "chelsea.changeSong(\"Keep the blue flag flying high\")\n",
        "print(chelsea.showClubInfo())"
      ],
      "metadata": {
        "colab": {
          "base_uri": "https://localhost:8080/"
        },
        "id": "tTuiQNrVcbSw",
        "outputId": "9df5acda-b2f5-4795-e2b8-4cb72f6e1e7e"
      },
      "execution_count": null,
      "outputs": [
        {
          "output_type": "stream",
          "name": "stdout",
          "text": [
            "===================\n",
            "Name: Manchester United\n",
            "Song: Glory Glory Man United\n",
            "Total No of title: 0\n",
            "##################\n",
            "Name: Manchester United\n",
            "Song: Glory Glory Man United\n",
            "Total No of title: 1\n",
            "===================\n",
            "Name: Chelsea\n",
            "Song: No Slogan\n",
            "Total No of title: 0\n",
            "Name: Chelsea\n",
            "Song: Keep the blue flag flying high\n",
            "Total No of title: 0\n"
          ]
        }
      ]
    },
    {
      "cell_type": "code",
      "source": [
        "#Task_11\n",
        "class Author:\n",
        "    def __init__(self, name=None, *books):\n",
        "        self.name = name\n",
        "        if name == None:\n",
        "            self.name = \"Default\"\n",
        "\n",
        "        booklist = \"\"\n",
        "        if len(books) > 0:\n",
        "            for i in books:\n",
        "                booklist += i + \"\\n\"\n",
        "            self.books = booklist\n",
        "\n",
        "    def changeName(self, new_name):\n",
        "        self.name = new_name\n",
        "\n",
        "    def addBooks(self, *books):\n",
        "        booklist = \"\"\n",
        "        for i in books:\n",
        "            booklist += i + \"\\n\"\n",
        "\n",
        "        self.books = booklist\n",
        "\n",
        "    def printDetails(self):\n",
        "        print(f\"Author Name: {self.name}\")\n",
        "        print(\"------------\")\n",
        "        print(f\"List of Books:\")\n",
        "        print(self.books)\n",
        "\n",
        "\n",
        "auth1 = Author(\"Humayun Ahmed\")\n",
        "auth1.addBooks(\"Deyal\", \"Megher Opor Bari\")\n",
        "auth1.printDetails()\n",
        "print(\"===================\")\n",
        "auth2 = Author()\n",
        "print(auth2.name)\n",
        "auth2.changeName(\"Mario Puzo\")\n",
        "auth2.addBooks(\"The Godfather\", \"Omerta\", \"The Sicilian\")\n",
        "print(\"===================\")\n",
        "auth2.printDetails()\n",
        "print(\"===================\")\n",
        "auth3 = Author(\"Paolo Coelho\", \"The Alchemist\", \"The Fifth Mountain\")\n",
        "auth3.printDetails()"
      ],
      "metadata": {
        "colab": {
          "base_uri": "https://localhost:8080/"
        },
        "id": "HWreCZPIcnPZ",
        "outputId": "ab70a7ce-3f60-47b2-9c12-f3800e163547"
      },
      "execution_count": null,
      "outputs": [
        {
          "output_type": "stream",
          "name": "stdout",
          "text": [
            "Author Name: Humayun Ahmed\n",
            "------------\n",
            "List of Books:\n",
            "Deyal\n",
            "Megher Opor Bari\n",
            "\n",
            "===================\n",
            "Default\n",
            "===================\n",
            "Author Name: Mario Puzo\n",
            "------------\n",
            "List of Books:\n",
            "The Godfather\n",
            "Omerta\n",
            "The Sicilian\n",
            "\n",
            "===================\n",
            "Author Name: Paolo Coelho\n",
            "------------\n",
            "List of Books:\n",
            "The Alchemist\n",
            "The Fifth Mountain\n",
            "\n"
          ]
        }
      ]
    },
    {
      "cell_type": "code",
      "source": [
        "#tASK_12\n",
        "class TaxiLagbe:\n",
        "    def __init__(self,car,area):\n",
        "        self.car = car\n",
        "        self.area = area\n",
        "\n",
        "        self.passengers = []\n",
        "        self.c = 0\n",
        "    def addPassenger(self,*new_passenger):\n",
        "\n",
        "        for i in new_passenger:\n",
        "            if len(self.passengers)<4:\n",
        "                self.passengers.append(i.split(\"_\"))\n",
        "                print(f\"Dear {self.passengers[self.c][0]}! Welcome to TaxiLagbe.\")\n",
        "                self.c+=1\n",
        "            else:\n",
        "                print(\"Taxi Full! No more passengers can be added.\")\n",
        "\n",
        "        self.total = len(self.passengers)\n",
        "\n",
        "\n",
        "    def printDetails(self):\n",
        "\n",
        "        print(\"Trip info for Taxi number:\",self.car)\n",
        "        print(f\"This taxi can cover only {self.area} area.\")\n",
        "        print(\"Total Passengers:\",self.total)\n",
        "\n",
        "        names =\"\"\n",
        "        fares =0\n",
        "\n",
        "        for name,fare in self.passengers:\n",
        "            names +=name+\",\"\n",
        "            fares +=int(fare)\n",
        "\n",
        "        print(\"Passengers lists:\",names[:-1])\n",
        "        print(\"Total collected fare:\",fares)\n",
        "\n",
        "\n",
        "  \n",
        "\n",
        "\n",
        "taxi1 = TaxiLagbe('1010-01', 'Dhaka')\n",
        "print('-------------------------------')\n",
        "taxi1.addPassenger('Walker_100', 'Wood_200')\n",
        "taxi1.addPassenger('Matt_100')\n",
        "taxi1.addPassenger('Wilson_105')\n",
        "print('-------------------------------')\n",
        "taxi1.printDetails()\n",
        "print('-------------------------------')\n",
        "taxi1.addPassenger('Karen_200')\n",
        "print('-------------------------------')\n",
        "taxi1.printDetails()\n",
        "print('-------------------------------')\n",
        "taxi2 = TaxiLagbe('1010-02', 'Khulna')\n",
        "taxi2.addPassenger('Ronald_115')\n",
        "taxi2.addPassenger('Parker_215')\n",
        "print('-------------------------------')\n",
        "taxi2.printDetails()"
      ],
      "metadata": {
        "colab": {
          "base_uri": "https://localhost:8080/"
        },
        "id": "nPtTkE1_dIXA",
        "outputId": "65b8a265-f615-4baf-d973-6a3488dd232e"
      },
      "execution_count": null,
      "outputs": [
        {
          "output_type": "stream",
          "name": "stdout",
          "text": [
            "-------------------------------\n",
            "Dear Walker! Welcome to TaxiLagbe.\n",
            "Dear Wood! Welcome to TaxiLagbe.\n",
            "Dear Matt! Welcome to TaxiLagbe.\n",
            "Dear Wilson! Welcome to TaxiLagbe.\n",
            "-------------------------------\n",
            "Trip info for Taxi number: 1010-01\n",
            "This taxi can cover only Dhaka area.\n",
            "Total Passengers: 4\n",
            "Passengers lists: Walker,Wood,Matt,Wilson\n",
            "Total collected fare: 505\n",
            "-------------------------------\n",
            "Taxi Full! No more passengers can be added.\n",
            "-------------------------------\n",
            "Trip info for Taxi number: 1010-01\n",
            "This taxi can cover only Dhaka area.\n",
            "Total Passengers: 4\n",
            "Passengers lists: Walker,Wood,Matt,Wilson\n",
            "Total collected fare: 505\n",
            "-------------------------------\n",
            "Dear Ronald! Welcome to TaxiLagbe.\n",
            "Dear Parker! Welcome to TaxiLagbe.\n",
            "-------------------------------\n",
            "Trip info for Taxi number: 1010-02\n",
            "This taxi can cover only Khulna area.\n",
            "Total Passengers: 2\n",
            "Passengers lists: Ronald,Parker\n",
            "Total collected fare: 330\n"
          ]
        }
      ]
    },
    {
      "cell_type": "code",
      "source": [
        "#Task_13\n",
        "class Account:\n",
        "    def __init__(self,name =\"Default Account\",balance = 0):\n",
        "        self.name = name\n",
        "        self.balance = balance\n",
        "    def details(self):\n",
        "        print(self.name)\n",
        "        return self.balance\n",
        "    def withdraw(self,amount):\n",
        "        if self.balance-amount<=3070:\n",
        "            print(\"Sorry, Withdraw unsuccessful! The account balance after deducting withdraw amount is equal to or less than minimum.\")\n",
        "        else:\n",
        "            self.balance -= amount\n",
        "            print(\"Withdraw Successful! New balance is:\",self.balance)\n",
        "\n",
        "a1 = Account()\n",
        "print(a1.details())\n",
        "print(\"------------------------\")\n",
        "a1.name = \"Oliver\"\n",
        "a1.balance = 10000.0\n",
        "print(a1.details())\n",
        "print(\"------------------------\")\n",
        "a2 = Account(\"Liam\")\n",
        "print(a2.details())\n",
        "print(\"------------------------\")\n",
        "a3 = Account(\"Noah\",400)\n",
        "print(a3.details())\n",
        "print(\"------------------------\")\n",
        "a1.withdraw(6930)\n",
        "print(\"------------------------\")\n",
        "a2.withdraw(600)\n",
        "print(\"------------------------\")\n",
        "a1.withdraw(6929)"
      ],
      "metadata": {
        "id": "GZj6fieil9us"
      },
      "execution_count": null,
      "outputs": []
    },
    {
      "cell_type": "code",
      "source": [
        "#Task_14\n",
        "class StudentDatabase:\n",
        "    def __init__(self,name,roll):\n",
        "        self.name = name\n",
        "        self.roll = roll\n",
        "        self.grades = {}\n",
        "\n",
        "    def calculateGPA(self,courses,semsester):\n",
        "        c=[]\n",
        "        g =[]\n",
        "        kk={}\n",
        "        total = 0\n",
        "        for i in courses:\n",
        "            c.append(i.split(\": \"))\n",
        "        for j,k in c:\n",
        "            total += float(k)*3\n",
        "            g.append(j)\n",
        "        gpa = total/(len(c)*3)\n",
        "        gpa=round(gpa,2)\n",
        "        kk[tuple(g)]= gpa\n",
        "        self.grades[semsester]=kk\n",
        "\n",
        "    def printDetails(self):\n",
        "        print(\"Name:\",self.name,\"\\nID:\",self.roll)\n",
        "        for i,j in self.grades.items():\n",
        "            print(f\"Course Taken in {i}\")\n",
        "            for m in j.keys():\n",
        "                for p in m:\n",
        "                    print(p)\n",
        "            print(\"GPA:\",self.grades[i][m])\n",
        "\n",
        "\n",
        "\n",
        "        \n",
        "s1 = StudentDatabase('Pietro', '10101222')\n",
        "s1.calculateGPA(['CSE230: 4.0', 'CSE220: 4.0', 'MAT110: 4.0'],\n",
        "'Summer2020')\n",
        "s1.calculateGPA(['CSE250: 3.7', 'CSE330: 4.0'], 'Summer2021')\n",
        "print(f'Grades for {s1.name}\\n{s1.grades}')\n",
        "print('------------------------------------------------------')\n",
        "s1.printDetails()\n",
        "s2 = StudentDatabase('Wanda', '10103332')\n",
        "s2.calculateGPA(['CSE111: 3.7', 'CSE260: 3.7', 'ENG101: 4.0'],\n",
        "'Summer2022')\n",
        "print('------------------------------------------------------')\n",
        "print(f'Grades for {s2.name}\\n{s2.grades}')\n",
        "print('------------------------------------------------------')\n",
        "s2.printDetails()"
      ],
      "metadata": {
        "id": "wX1jeh2fl_y8",
        "colab": {
          "base_uri": "https://localhost:8080/"
        },
        "outputId": "17f20b9b-26c0-4a02-f1dc-867c50b5d094"
      },
      "execution_count": null,
      "outputs": [
        {
          "output_type": "stream",
          "name": "stdout",
          "text": [
            "Grades for Pietro\n",
            "{'Summer2020': {('CSE230', 'CSE220', 'MAT110'): 4.0}, 'Summer2021': {('CSE250', 'CSE330'): 3.85}}\n",
            "------------------------------------------------------\n",
            "Name: Pietro \n",
            "ID: 10101222\n",
            "Course Taken in Summer2020\n",
            "CSE230\n",
            "CSE220\n",
            "MAT110\n",
            "GPA: 4.0\n",
            "Course Taken in Summer2021\n",
            "CSE250\n",
            "CSE330\n",
            "GPA: 3.85\n",
            "------------------------------------------------------\n",
            "Grades for Wanda\n",
            "{'Summer2022': {('CSE111', 'CSE260', 'ENG101'): 3.8}}\n",
            "------------------------------------------------------\n",
            "Name: Wanda \n",
            "ID: 10103332\n",
            "Course Taken in Summer2022\n",
            "CSE111\n",
            "CSE260\n",
            "ENG101\n",
            "GPA: 3.8\n"
          ]
        }
      ]
    }
  ]
}